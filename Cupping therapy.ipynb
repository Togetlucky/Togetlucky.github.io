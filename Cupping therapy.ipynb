{
 "cells": [
  {
   "cell_type": "markdown",
   "id": "3fce93d5",
   "metadata": {},
   "source": [
    "###### Loading packages"
   ]
  },
  {
   "cell_type": "code",
   "execution_count": 12,
   "id": "6fa6f8e8",
   "metadata": {},
   "outputs": [],
   "source": [
    "library(tseries)\n",
    "library(moments)\n",
    "library(stargazer)\n",
    "library(tidyverse)\n",
    "library(ggpubr)\n",
    "library(rstatix)"
   ]
  },
  {
   "cell_type": "markdown",
   "id": "aa443d59",
   "metadata": {},
   "source": [
    "###### Getting data"
   ]
  },
  {
   "cell_type": "code",
   "execution_count": 19,
   "id": "0eb8dfcf",
   "metadata": {},
   "outputs": [],
   "source": [
    "dataset1 <- read.csv(file.choose())\n",
    "dataset2 <- read.csv(file.choose())\n",
    "dataset3 <- read.csv(file.choose())"
   ]
  },
  {
   "cell_type": "markdown",
   "id": "07b26aba",
   "metadata": {},
   "source": [
    "### Descriptive analysis\n",
    "\n",
    "The descriptive analysis allows to study the data dispersion with indicators like skewness and curtosis and with graphs like boxplots and histograms.\n",
    "\n",
    "A normal distribution is characterized by a skewness of 0 and a kurtosis of 3. If the distribution of the variable flexion has values near those, it may indicate that the variable is normally distributed.\n",
    "\n",
    "Declaring variable :"
   ]
  },
  {
   "cell_type": "code",
   "execution_count": 20,
   "id": "1a93231d",
   "metadata": {},
   "outputs": [],
   "source": [
    "flexion <- dataset1$Flexion.en.degré"
   ]
  },
  {
   "cell_type": "markdown",
   "id": "25784ec1",
   "metadata": {},
   "source": [
    "Table below shows\n",
    "\n",
    "- we have 15 observations\n",
    "- Median and mean are roughly equal which is the case for normal distribution \n",
    "- The kurtosis is near 3 and the skewness is near 0.\n",
    "\n",
    "Those statitics indicate that it is possible to consider a normal distribution for the variable flexion."
   ]
  },
  {
   "cell_type": "code",
   "execution_count": 21,
   "id": "0a2a7462",
   "metadata": {},
   "outputs": [
    {
     "name": "stdout",
     "output_type": "stream",
     "text": [
      "\n",
      "Summary statistics on flexion\n",
      "====================================================================\n",
      "Statistic        N   Mean  St. Dev. Min Pctl(25) Median Pctl(75) Max\n",
      "--------------------------------------------------------------------\n",
      "Flexion.en.degré 15 58.933  4.183   53     56      59     61.5   68 \n",
      "--------------------------------------------------------------------\n",
      "[1] \"kurtosis\"\n"
     ]
    },
    {
     "data": {
      "text/html": [
       "2.72056387052687"
      ],
      "text/latex": [
       "2.72056387052687"
      ],
      "text/markdown": [
       "2.72056387052687"
      ],
      "text/plain": [
       "[1] 2.720564"
      ]
     },
     "metadata": {},
     "output_type": "display_data"
    },
    {
     "name": "stdout",
     "output_type": "stream",
     "text": [
      "[1] \"skewness\"\n"
     ]
    },
    {
     "data": {
      "text/html": [
       "0.539520334563377"
      ],
      "text/latex": [
       "0.539520334563377"
      ],
      "text/markdown": [
       "0.539520334563377"
      ],
      "text/plain": [
       "[1] 0.5395203"
      ]
     },
     "metadata": {},
     "output_type": "display_data"
    }
   ],
   "source": [
    "stargazer(subset(dataset1, select = c(Flexion.en.degré)), type = 'text', title = \"Summary statistics on flexion\", median = TRUE)\n",
    "\n",
    "print(\"kurtosis\")\n",
    "kurtosis(flexion) \n",
    "\n",
    "print(\"skewness\")\n",
    "skewness(flexion) "
   ]
  },
  {
   "cell_type": "markdown",
   "id": "932ffa8c",
   "metadata": {},
   "source": [
    "###### Boxplot\n",
    "\n",
    "From both plots we notice a very slight right-skewed distribution. The data are not scattered.\n",
    "The histogram of the variable flexion looks like of a normal distributed variable. \n"
   ]
  },
  {
   "cell_type": "code",
   "execution_count": 5,
   "id": "d033d448",
   "metadata": {},
   "outputs": [
    {
     "data": {
      "image/png": "[encoded data removed]",
      "text/plain": [
       "Plot with title \"Boxplot de la variable flexion\""
      ]
     },
     "metadata": {
      "image/png": {
       "height": 420,
       "width": 420
      }
     },
     "output_type": "display_data"
    },
    {
     "data": {
      "image/png": "[encoded data removed]",
      "text/plain": [
       "Plot with title \"Histogramme de la variable flexion\""
      ]
     },
     "metadata": {
      "image/png": {
       "height": 420,
       "width": 420
      }
     },
     "output_type": "display_data"
    }
   ],
   "source": [
    "boxplot(flexion, main = \"Boxplot de la variable flexion\", ylab = \"Flexion en degré\") \n",
    "hist(flexion,col=\"red\", main = \n",
    "       \"Histogramme de la variable flexion\", ylab = \"Fréquence\") "
   ]
  },
  {
   "cell_type": "markdown",
   "id": "27a461f7",
   "metadata": {},
   "source": [
    "To confirm the graphic analysis, the shapiro-wilk test is computed to check for normality distribution.\n",
    "Here the p-value is greater than 0.05 (=alpha) which means the null-hypothesis (normally distributed variable) cannot be rejected. This supports our graphical analysis and we establish that the variable flexion is normally distributed."
   ]
  },
  {
   "cell_type": "code",
   "execution_count": 10,
   "id": "a882aebe",
   "metadata": {},
   "outputs": [
    {
     "data": {
      "text/plain": [
       "\n",
       "\tShapiro-Wilk normality test\n",
       "\n",
       "data:  flexion\n",
       "W = 0.95483, p-value = 0.6034\n"
      ]
     },
     "metadata": {},
     "output_type": "display_data"
    }
   ],
   "source": [
    "shapiro.test(flexion)"
   ]
  },
  {
   "cell_type": "markdown",
   "id": "c09fd3f0",
   "metadata": {},
   "source": [
    "####  Comparing flexion measures at t1, t2 and t3\n"
   ]
  },
  {
   "cell_type": "code",
   "execution_count": 43,
   "id": "8ffb538f",
   "metadata": {},
   "outputs": [],
   "source": [
    "#Creating new database with the variable flexion at three different times. \n",
    "#t1 before cupping, t2 after cupping, t3 one day after\n",
    "\n",
    "t1 <- dataset1$Flexion.en.degré\n",
    "t2 <- dataset2$Flexion.en.degré\n",
    "t3 <- dataset3$Flexion.en.degré\n",
    "id <- c(1:15)\n",
    "a <- data.frame(id,t1, t2, t3)"
   ]
  },
  {
   "cell_type": "code",
   "execution_count": 39,
   "id": "6c5fbb33",
   "metadata": {},
   "outputs": [
    {
     "data": {
      "text/html": [
       "<table class=\"dataframe\">\n",
       "<caption>A data.frame: 15 × 4</caption>\n",
       "<thead>\n",
       "\t<tr><th scope=col>id</th><th scope=col>t1</th><th scope=col>t2</th><th scope=col>t3</th></tr>\n",
       "\t<tr><th scope=col>&lt;int&gt;</th><th scope=col>&lt;int&gt;</th><th scope=col>&lt;int&gt;</th><th scope=col>&lt;int&gt;</th></tr>\n",
       "</thead>\n",
       "<tbody>\n",
       "\t<tr><td> 1</td><td>62</td><td>65</td><td>53</td></tr>\n",
       "\t<tr><td> 2</td><td>58</td><td>62</td><td>54</td></tr>\n",
       "\t<tr><td> 3</td><td>61</td><td>64</td><td>56</td></tr>\n",
       "\t<tr><td> 4</td><td>56</td><td>58</td><td>53</td></tr>\n",
       "\t<tr><td> 5</td><td>59</td><td>64</td><td>58</td></tr>\n",
       "\t<tr><td> 6</td><td>53</td><td>58</td><td>52</td></tr>\n",
       "\t<tr><td> 7</td><td>68</td><td>56</td><td>56</td></tr>\n",
       "\t<tr><td> 8</td><td>54</td><td>68</td><td>58</td></tr>\n",
       "\t<tr><td> 9</td><td>62</td><td>56</td><td>59</td></tr>\n",
       "\t<tr><td>10</td><td>56</td><td>68</td><td>62</td></tr>\n",
       "\t<tr><td>11</td><td>59</td><td>58</td><td>58</td></tr>\n",
       "\t<tr><td>12</td><td>58</td><td>59</td><td>62</td></tr>\n",
       "\t<tr><td>13</td><td>59</td><td>67</td><td>54</td></tr>\n",
       "\t<tr><td>14</td><td>65</td><td>72</td><td>52</td></tr>\n",
       "\t<tr><td>15</td><td>54</td><td>54</td><td>57</td></tr>\n",
       "</tbody>\n",
       "</table>\n"
      ],
      "text/latex": [
       "A data.frame: 15 × 4\n",
       "\\begin{tabular}{llll}\n",
       " id & t1 & t2 & t3\\\\\n",
       " <int> & <int> & <int> & <int>\\\\\n",
       "\\hline\n",
       "\t  1 & 62 & 65 & 53\\\\\n",
       "\t  2 & 58 & 62 & 54\\\\\n",
       "\t  3 & 61 & 64 & 56\\\\\n",
       "\t  4 & 56 & 58 & 53\\\\\n",
       "\t  5 & 59 & 64 & 58\\\\\n",
       "\t  6 & 53 & 58 & 52\\\\\n",
       "\t  7 & 68 & 56 & 56\\\\\n",
       "\t  8 & 54 & 68 & 58\\\\\n",
       "\t  9 & 62 & 56 & 59\\\\\n",
       "\t 10 & 56 & 68 & 62\\\\\n",
       "\t 11 & 59 & 58 & 58\\\\\n",
       "\t 12 & 58 & 59 & 62\\\\\n",
       "\t 13 & 59 & 67 & 54\\\\\n",
       "\t 14 & 65 & 72 & 52\\\\\n",
       "\t 15 & 54 & 54 & 57\\\\\n",
       "\\end{tabular}\n"
      ],
      "text/markdown": [
       "\n",
       "A data.frame: 15 × 4\n",
       "\n",
       "| id &lt;int&gt; | t1 &lt;int&gt; | t2 &lt;int&gt; | t3 &lt;int&gt; |\n",
       "|---|---|---|---|\n",
       "|  1 | 62 | 65 | 53 |\n",
       "|  2 | 58 | 62 | 54 |\n",
       "|  3 | 61 | 64 | 56 |\n",
       "|  4 | 56 | 58 | 53 |\n",
       "|  5 | 59 | 64 | 58 |\n",
       "|  6 | 53 | 58 | 52 |\n",
       "|  7 | 68 | 56 | 56 |\n",
       "|  8 | 54 | 68 | 58 |\n",
       "|  9 | 62 | 56 | 59 |\n",
       "| 10 | 56 | 68 | 62 |\n",
       "| 11 | 59 | 58 | 58 |\n",
       "| 12 | 58 | 59 | 62 |\n",
       "| 13 | 59 | 67 | 54 |\n",
       "| 14 | 65 | 72 | 52 |\n",
       "| 15 | 54 | 54 | 57 |\n",
       "\n"
      ],
      "text/plain": [
       "   id t1 t2 t3\n",
       "1   1 62 65 53\n",
       "2   2 58 62 54\n",
       "3   3 61 64 56\n",
       "4   4 56 58 53\n",
       "5   5 59 64 58\n",
       "6   6 53 58 52\n",
       "7   7 68 56 56\n",
       "8   8 54 68 58\n",
       "9   9 62 56 59\n",
       "10 10 56 68 62\n",
       "11 11 59 58 58\n",
       "12 12 58 59 62\n",
       "13 13 59 67 54\n",
       "14 14 65 72 52\n",
       "15 15 54 54 57"
      ]
     },
     "metadata": {},
     "output_type": "display_data"
    }
   ],
   "source": [
    "a"
   ]
  },
  {
   "cell_type": "code",
   "execution_count": 44,
   "id": "a8d9fb08",
   "metadata": {},
   "outputs": [
    {
     "data": {
      "text/html": [
       "<table class=\"dataframe\">\n",
       "<caption>A data.frame: 20 × 3</caption>\n",
       "<thead>\n",
       "\t<tr><th></th><th scope=col>id</th><th scope=col>time</th><th scope=col>flexion</th></tr>\n",
       "\t<tr><th></th><th scope=col>&lt;fct&gt;</th><th scope=col>&lt;fct&gt;</th><th scope=col>&lt;int&gt;</th></tr>\n",
       "</thead>\n",
       "<tbody>\n",
       "\t<tr><th scope=row>1</th><td>1 </td><td>t1</td><td>62</td></tr>\n",
       "\t<tr><th scope=row>2</th><td>2 </td><td>t1</td><td>58</td></tr>\n",
       "\t<tr><th scope=row>3</th><td>3 </td><td>t1</td><td>61</td></tr>\n",
       "\t<tr><th scope=row>4</th><td>4 </td><td>t1</td><td>56</td></tr>\n",
       "\t<tr><th scope=row>5</th><td>5 </td><td>t1</td><td>59</td></tr>\n",
       "\t<tr><th scope=row>6</th><td>6 </td><td>t1</td><td>53</td></tr>\n",
       "\t<tr><th scope=row>7</th><td>7 </td><td>t1</td><td>68</td></tr>\n",
       "\t<tr><th scope=row>8</th><td>8 </td><td>t1</td><td>54</td></tr>\n",
       "\t<tr><th scope=row>9</th><td>9 </td><td>t1</td><td>62</td></tr>\n",
       "\t<tr><th scope=row>10</th><td>10</td><td>t1</td><td>56</td></tr>\n",
       "\t<tr><th scope=row>11</th><td>11</td><td>t1</td><td>59</td></tr>\n",
       "\t<tr><th scope=row>12</th><td>12</td><td>t1</td><td>58</td></tr>\n",
       "\t<tr><th scope=row>13</th><td>13</td><td>t1</td><td>59</td></tr>\n",
       "\t<tr><th scope=row>14</th><td>14</td><td>t1</td><td>65</td></tr>\n",
       "\t<tr><th scope=row>15</th><td>15</td><td>t1</td><td>54</td></tr>\n",
       "\t<tr><th scope=row>16</th><td>1 </td><td>t2</td><td>65</td></tr>\n",
       "\t<tr><th scope=row>17</th><td>2 </td><td>t2</td><td>62</td></tr>\n",
       "\t<tr><th scope=row>18</th><td>3 </td><td>t2</td><td>64</td></tr>\n",
       "\t<tr><th scope=row>19</th><td>4 </td><td>t2</td><td>58</td></tr>\n",
       "\t<tr><th scope=row>20</th><td>5 </td><td>t2</td><td>64</td></tr>\n",
       "</tbody>\n",
       "</table>\n"
      ],
      "text/latex": [
       "A data.frame: 20 × 3\n",
       "\\begin{tabular}{r|lll}\n",
       "  & id & time & flexion\\\\\n",
       "  & <fct> & <fct> & <int>\\\\\n",
       "\\hline\n",
       "\t1 & 1  & t1 & 62\\\\\n",
       "\t2 & 2  & t1 & 58\\\\\n",
       "\t3 & 3  & t1 & 61\\\\\n",
       "\t4 & 4  & t1 & 56\\\\\n",
       "\t5 & 5  & t1 & 59\\\\\n",
       "\t6 & 6  & t1 & 53\\\\\n",
       "\t7 & 7  & t1 & 68\\\\\n",
       "\t8 & 8  & t1 & 54\\\\\n",
       "\t9 & 9  & t1 & 62\\\\\n",
       "\t10 & 10 & t1 & 56\\\\\n",
       "\t11 & 11 & t1 & 59\\\\\n",
       "\t12 & 12 & t1 & 58\\\\\n",
       "\t13 & 13 & t1 & 59\\\\\n",
       "\t14 & 14 & t1 & 65\\\\\n",
       "\t15 & 15 & t1 & 54\\\\\n",
       "\t16 & 1  & t2 & 65\\\\\n",
       "\t17 & 2  & t2 & 62\\\\\n",
       "\t18 & 3  & t2 & 64\\\\\n",
       "\t19 & 4  & t2 & 58\\\\\n",
       "\t20 & 5  & t2 & 64\\\\\n",
       "\\end{tabular}\n"
      ],
      "text/markdown": [
       "\n",
       "A data.frame: 20 × 3\n",
       "\n",
       "| <!--/--> | id &lt;fct&gt; | time &lt;fct&gt; | flexion &lt;int&gt; |\n",
       "|---|---|---|---|\n",
       "| 1 | 1  | t1 | 62 |\n",
       "| 2 | 2  | t1 | 58 |\n",
       "| 3 | 3  | t1 | 61 |\n",
       "| 4 | 4  | t1 | 56 |\n",
       "| 5 | 5  | t1 | 59 |\n",
       "| 6 | 6  | t1 | 53 |\n",
       "| 7 | 7  | t1 | 68 |\n",
       "| 8 | 8  | t1 | 54 |\n",
       "| 9 | 9  | t1 | 62 |\n",
       "| 10 | 10 | t1 | 56 |\n",
       "| 11 | 11 | t1 | 59 |\n",
       "| 12 | 12 | t1 | 58 |\n",
       "| 13 | 13 | t1 | 59 |\n",
       "| 14 | 14 | t1 | 65 |\n",
       "| 15 | 15 | t1 | 54 |\n",
       "| 16 | 1  | t2 | 65 |\n",
       "| 17 | 2  | t2 | 62 |\n",
       "| 18 | 3  | t2 | 64 |\n",
       "| 19 | 4  | t2 | 58 |\n",
       "| 20 | 5  | t2 | 64 |\n",
       "\n"
      ],
      "text/plain": [
       "   id time flexion\n",
       "1  1  t1   62     \n",
       "2  2  t1   58     \n",
       "3  3  t1   61     \n",
       "4  4  t1   56     \n",
       "5  5  t1   59     \n",
       "6  6  t1   53     \n",
       "7  7  t1   68     \n",
       "8  8  t1   54     \n",
       "9  9  t1   62     \n",
       "10 10 t1   56     \n",
       "11 11 t1   59     \n",
       "12 12 t1   58     \n",
       "13 13 t1   59     \n",
       "14 14 t1   65     \n",
       "15 15 t1   54     \n",
       "16 1  t2   65     \n",
       "17 2  t2   62     \n",
       "18 3  t2   64     \n",
       "19 4  t2   58     \n",
       "20 5  t2   64     "
      ]
     },
     "metadata": {},
     "output_type": "display_data"
    }
   ],
   "source": [
    "# Pivoting table\n",
    "\n",
    "a <- a %>%\n",
    "  gather(key = \"time\", value = \"flexion\", t1,t2,t3) %>%\n",
    "  convert_as_factor(id, time)\n",
    "head(a, 20)\n"
   ]
  },
  {
   "cell_type": "markdown",
   "id": "59c23ac8",
   "metadata": {},
   "source": [
    "The summary statistics below show that the standard deviation from the 3 different time are close  and that the mean at t2 is far from t3."
   ]
  },
  {
   "cell_type": "code",
   "execution_count": 45,
   "id": "36cf0a27",
   "metadata": {},
   "outputs": [
    {
     "data": {
      "text/html": [
       "<table class=\"dataframe\">\n",
       "<caption>A tibble: 3 × 5</caption>\n",
       "<thead>\n",
       "\t<tr><th scope=col>time</th><th scope=col>variable</th><th scope=col>n</th><th scope=col>mean</th><th scope=col>sd</th></tr>\n",
       "\t<tr><th scope=col>&lt;fct&gt;</th><th scope=col>&lt;chr&gt;</th><th scope=col>&lt;dbl&gt;</th><th scope=col>&lt;dbl&gt;</th><th scope=col>&lt;dbl&gt;</th></tr>\n",
       "</thead>\n",
       "<tbody>\n",
       "\t<tr><td>t1</td><td>flexion</td><td>15</td><td>58.933</td><td>4.183</td></tr>\n",
       "\t<tr><td>t2</td><td>flexion</td><td>15</td><td>61.933</td><td>5.391</td></tr>\n",
       "\t<tr><td>t3</td><td>flexion</td><td>15</td><td>56.267</td><td>3.283</td></tr>\n",
       "</tbody>\n",
       "</table>\n"
      ],
      "text/latex": [
       "A tibble: 3 × 5\n",
       "\\begin{tabular}{lllll}\n",
       " time & variable & n & mean & sd\\\\\n",
       " <fct> & <chr> & <dbl> & <dbl> & <dbl>\\\\\n",
       "\\hline\n",
       "\t t1 & flexion & 15 & 58.933 & 4.183\\\\\n",
       "\t t2 & flexion & 15 & 61.933 & 5.391\\\\\n",
       "\t t3 & flexion & 15 & 56.267 & 3.283\\\\\n",
       "\\end{tabular}\n"
      ],
      "text/markdown": [
       "\n",
       "A tibble: 3 × 5\n",
       "\n",
       "| time &lt;fct&gt; | variable &lt;chr&gt; | n &lt;dbl&gt; | mean &lt;dbl&gt; | sd &lt;dbl&gt; |\n",
       "|---|---|---|---|---|\n",
       "| t1 | flexion | 15 | 58.933 | 4.183 |\n",
       "| t2 | flexion | 15 | 61.933 | 5.391 |\n",
       "| t3 | flexion | 15 | 56.267 | 3.283 |\n",
       "\n"
      ],
      "text/plain": [
       "  time variable n  mean   sd   \n",
       "1 t1   flexion  15 58.933 4.183\n",
       "2 t2   flexion  15 61.933 5.391\n",
       "3 t3   flexion  15 56.267 3.283"
      ]
     },
     "metadata": {},
     "output_type": "display_data"
    }
   ],
   "source": [
    "a %>%\n",
    "  group_by(time) %>%\n",
    "  get_summary_stats(flexion, type = \"mean_sd\")"
   ]
  },
  {
   "cell_type": "markdown",
   "id": "b8e3e91b",
   "metadata": {},
   "source": [
    "The plots of the three groups (t1, t2 and t3) allow to compare median. Here, we see that median of t1 and t2 are close but median of t2 is far from t3.\n",
    "Just after the cupping therapy, patients tend to have higher cervical flexion ability. But the day after, flexion ability decreases under flexion before cupping therapy."
   ]
  },
  {
   "cell_type": "code",
   "execution_count": 46,
   "id": "7d154a80",
   "metadata": {},
   "outputs": [
    {
     "data": {
      "image/png": "[encoded data removed]",
      "text/plain": [
       "plot without title"
      ]
     },
     "metadata": {
      "image/png": {
       "height": 420,
       "width": 420
      }
     },
     "output_type": "display_data"
    }
   ],
   "source": [
    "ggboxplot(a, x = \"time\", y = \"flexion\", add = \"point\")"
   ]
  },
  {
   "cell_type": "markdown",
   "id": "85de520b",
   "metadata": {},
   "source": [
    "Before computing the anova, we check the assumptions. \n",
    "First, we look for any outlier in the set. Here we see no outlier. So, it is alright. "
   ]
  },
  {
   "cell_type": "code",
   "execution_count": 34,
   "id": "df85eed9",
   "metadata": {},
   "outputs": [
    {
     "data": {
      "text/html": [
       "<table class=\"dataframe\">\n",
       "<caption>A data.frame: 0 × 5</caption>\n",
       "<thead>\n",
       "\t<tr><th scope=col>time</th><th scope=col>id</th><th scope=col>flexion</th><th scope=col>is.outlier</th><th scope=col>is.extreme</th></tr>\n",
       "\t<tr><th scope=col>&lt;fct&gt;</th><th scope=col>&lt;fct&gt;</th><th scope=col>&lt;int&gt;</th><th scope=col>&lt;lgl&gt;</th><th scope=col>&lt;lgl&gt;</th></tr>\n",
       "</thead>\n",
       "<tbody>\n",
       "</tbody>\n",
       "</table>\n"
      ],
      "text/latex": [
       "A data.frame: 0 × 5\n",
       "\\begin{tabular}{lllll}\n",
       " time & id & flexion & is.outlier & is.extreme\\\\\n",
       " <fct> & <fct> & <int> & <lgl> & <lgl>\\\\\n",
       "\\hline\n",
       "\\end{tabular}\n"
      ],
      "text/markdown": [
       "\n",
       "A data.frame: 0 × 5\n",
       "\n",
       "| time &lt;fct&gt; | id &lt;fct&gt; | flexion &lt;int&gt; | is.outlier &lt;lgl&gt; | is.extreme &lt;lgl&gt; |\n",
       "|---|---|---|---|---|\n",
       "\n"
      ],
      "text/plain": [
       "     time id flexion is.outlier is.extreme"
      ]
     },
     "metadata": {},
     "output_type": "display_data"
    }
   ],
   "source": [
    "a %>%\n",
    "  group_by(time) %>%\n",
    "  identify_outliers(flexion)"
   ]
  },
  {
   "cell_type": "markdown",
   "id": "d9c65ad8",
   "metadata": {},
   "source": [
    "Then, we check for normality of the three different groups/variables (t1, t2, t3) with shapiro wilk. As the p-values, are bigger than 0.05 we do not reject the null hypothesis of normally distributed variables. We conclude that our variabes t1, t2 and t3 are normally distributed."
   ]
  },
  {
   "cell_type": "code",
   "execution_count": 35,
   "id": "11debd16",
   "metadata": {},
   "outputs": [
    {
     "data": {
      "text/html": [
       "<table class=\"dataframe\">\n",
       "<caption>A tibble: 3 × 4</caption>\n",
       "<thead>\n",
       "\t<tr><th scope=col>time</th><th scope=col>variable</th><th scope=col>statistic</th><th scope=col>p</th></tr>\n",
       "\t<tr><th scope=col>&lt;fct&gt;</th><th scope=col>&lt;chr&gt;</th><th scope=col>&lt;dbl&gt;</th><th scope=col>&lt;dbl&gt;</th></tr>\n",
       "</thead>\n",
       "<tbody>\n",
       "\t<tr><td>t1</td><td>flexion</td><td>0.9548250</td><td>0.6033512</td></tr>\n",
       "\t<tr><td>t2</td><td>flexion</td><td>0.9453493</td><td>0.4543922</td></tr>\n",
       "\t<tr><td>t3</td><td>flexion</td><td>0.9272465</td><td>0.2481127</td></tr>\n",
       "</tbody>\n",
       "</table>\n"
      ],
      "text/latex": [
       "A tibble: 3 × 4\n",
       "\\begin{tabular}{llll}\n",
       " time & variable & statistic & p\\\\\n",
       " <fct> & <chr> & <dbl> & <dbl>\\\\\n",
       "\\hline\n",
       "\t t1 & flexion & 0.9548250 & 0.6033512\\\\\n",
       "\t t2 & flexion & 0.9453493 & 0.4543922\\\\\n",
       "\t t3 & flexion & 0.9272465 & 0.2481127\\\\\n",
       "\\end{tabular}\n"
      ],
      "text/markdown": [
       "\n",
       "A tibble: 3 × 4\n",
       "\n",
       "| time &lt;fct&gt; | variable &lt;chr&gt; | statistic &lt;dbl&gt; | p &lt;dbl&gt; |\n",
       "|---|---|---|---|\n",
       "| t1 | flexion | 0.9548250 | 0.6033512 |\n",
       "| t2 | flexion | 0.9453493 | 0.4543922 |\n",
       "| t3 | flexion | 0.9272465 | 0.2481127 |\n",
       "\n"
      ],
      "text/plain": [
       "  time variable statistic p        \n",
       "1 t1   flexion  0.9548250 0.6033512\n",
       "2 t2   flexion  0.9453493 0.4543922\n",
       "3 t3   flexion  0.9272465 0.2481127"
      ]
     },
     "metadata": {},
     "output_type": "display_data"
    }
   ],
   "source": [
    "a %>%\n",
    "  group_by(time) %>%\n",
    "  shapiro_test(flexion)"
   ]
  },
  {
   "cell_type": "markdown",
   "id": "30be475e",
   "metadata": {},
   "source": [
    "We compute anova and as the p-value is lower than 0.05 we reject the null hypothesis. It means that there is a statistical significative difference between t1, t2, t3. \n",
    "Cupping therapy has an effect on patients."
   ]
  },
  {
   "cell_type": "code",
   "execution_count": 36,
   "id": "05394e38",
   "metadata": {},
   "outputs": [
    {
     "data": {
      "text/html": [
       "<table class=\"dataframe\">\n",
       "<caption>A anova_test: 1 × 7</caption>\n",
       "<thead>\n",
       "\t<tr><th></th><th scope=col>Effect</th><th scope=col>DFn</th><th scope=col>DFd</th><th scope=col>F</th><th scope=col>p</th><th scope=col>p&lt;.05</th><th scope=col>ges</th></tr>\n",
       "\t<tr><th></th><th scope=col>&lt;chr&gt;</th><th scope=col>&lt;dbl&gt;</th><th scope=col>&lt;dbl&gt;</th><th scope=col>&lt;dbl&gt;</th><th scope=col>&lt;dbl&gt;</th><th scope=col>&lt;chr&gt;</th><th scope=col>&lt;dbl&gt;</th></tr>\n",
       "</thead>\n",
       "<tbody>\n",
       "\t<tr><th scope=row>1</th><td>time</td><td>2</td><td>28</td><td>6.105</td><td>0.006</td><td>*</td><td>0.231</td></tr>\n",
       "</tbody>\n",
       "</table>\n"
      ],
      "text/latex": [
       "A anova\\_test: 1 × 7\n",
       "\\begin{tabular}{r|lllllll}\n",
       "  & Effect & DFn & DFd & F & p & p<.05 & ges\\\\\n",
       "  & <chr> & <dbl> & <dbl> & <dbl> & <dbl> & <chr> & <dbl>\\\\\n",
       "\\hline\n",
       "\t1 & time & 2 & 28 & 6.105 & 0.006 & * & 0.231\\\\\n",
       "\\end{tabular}\n"
      ],
      "text/markdown": [
       "\n",
       "A anova_test: 1 × 7\n",
       "\n",
       "| <!--/--> | Effect &lt;chr&gt; | DFn &lt;dbl&gt; | DFd &lt;dbl&gt; | F &lt;dbl&gt; | p &lt;dbl&gt; | p&lt;.05 &lt;chr&gt; | ges &lt;dbl&gt; |\n",
       "|---|---|---|---|---|---|---|---|\n",
       "| 1 | time | 2 | 28 | 6.105 | 0.006 | * | 0.231 |\n",
       "\n"
      ],
      "text/plain": [
       "  Effect DFn DFd F     p     p<.05 ges  \n",
       "1 time   2   28  6.105 0.006 *     0.231"
      ]
     },
     "metadata": {},
     "output_type": "display_data"
    }
   ],
   "source": [
    "res.aov <- anova_test(data = a, dv = flexion, wid = id, within = time)\n",
    "get_anova_table(res.aov)"
   ]
  },
  {
   "cell_type": "markdown",
   "id": "50680ab9",
   "metadata": {},
   "source": [
    "To investigate where the difference comes from, we do pairwise test and we observe that the significative difference is between t2 and t3."
   ]
  },
  {
   "cell_type": "code",
   "execution_count": 37,
   "id": "5a7ed0ed",
   "metadata": {},
   "outputs": [
    {
     "data": {
      "text/html": [
       "<table class=\"dataframe\">\n",
       "<caption>A rstatix_test: 3 × 10</caption>\n",
       "<thead>\n",
       "\t<tr><th></th><th scope=col>.y.</th><th scope=col>group1</th><th scope=col>group2</th><th scope=col>n1</th><th scope=col>n2</th><th scope=col>statistic</th><th scope=col>df</th><th scope=col>p</th><th scope=col>p.adj</th><th scope=col>p.adj.signif</th></tr>\n",
       "\t<tr><th></th><th scope=col>&lt;chr&gt;</th><th scope=col>&lt;chr&gt;</th><th scope=col>&lt;chr&gt;</th><th scope=col>&lt;int&gt;</th><th scope=col>&lt;int&gt;</th><th scope=col>&lt;dbl&gt;</th><th scope=col>&lt;dbl&gt;</th><th scope=col>&lt;dbl&gt;</th><th scope=col>&lt;dbl&gt;</th><th scope=col>&lt;chr&gt;</th></tr>\n",
       "</thead>\n",
       "<tbody>\n",
       "\t<tr><th scope=row>1</th><td>flexion</td><td>t1</td><td>t2</td><td>15</td><td>15</td><td>-1.792843</td><td>14</td><td>0.095</td><td>0.284</td><td>ns</td></tr>\n",
       "\t<tr><th scope=row>2</th><td>flexion</td><td>t1</td><td>t3</td><td>15</td><td>15</td><td> 1.818987</td><td>14</td><td>0.090</td><td>0.271</td><td>ns</td></tr>\n",
       "\t<tr><th scope=row>3</th><td>flexion</td><td>t2</td><td>t3</td><td>15</td><td>15</td><td> 3.299705</td><td>14</td><td>0.005</td><td>0.016</td><td>* </td></tr>\n",
       "</tbody>\n",
       "</table>\n"
      ],
      "text/latex": [
       "A rstatix\\_test: 3 × 10\n",
       "\\begin{tabular}{r|llllllllll}\n",
       "  & .y. & group1 & group2 & n1 & n2 & statistic & df & p & p.adj & p.adj.signif\\\\\n",
       "  & <chr> & <chr> & <chr> & <int> & <int> & <dbl> & <dbl> & <dbl> & <dbl> & <chr>\\\\\n",
       "\\hline\n",
       "\t1 & flexion & t1 & t2 & 15 & 15 & -1.792843 & 14 & 0.095 & 0.284 & ns\\\\\n",
       "\t2 & flexion & t1 & t3 & 15 & 15 &  1.818987 & 14 & 0.090 & 0.271 & ns\\\\\n",
       "\t3 & flexion & t2 & t3 & 15 & 15 &  3.299705 & 14 & 0.005 & 0.016 & * \\\\\n",
       "\\end{tabular}\n"
      ],
      "text/markdown": [
       "\n",
       "A rstatix_test: 3 × 10\n",
       "\n",
       "| <!--/--> | .y. &lt;chr&gt; | group1 &lt;chr&gt; | group2 &lt;chr&gt; | n1 &lt;int&gt; | n2 &lt;int&gt; | statistic &lt;dbl&gt; | df &lt;dbl&gt; | p &lt;dbl&gt; | p.adj &lt;dbl&gt; | p.adj.signif &lt;chr&gt; |\n",
       "|---|---|---|---|---|---|---|---|---|---|---|\n",
       "| 1 | flexion | t1 | t2 | 15 | 15 | -1.792843 | 14 | 0.095 | 0.284 | ns |\n",
       "| 2 | flexion | t1 | t3 | 15 | 15 |  1.818987 | 14 | 0.090 | 0.271 | ns |\n",
       "| 3 | flexion | t2 | t3 | 15 | 15 |  3.299705 | 14 | 0.005 | 0.016 | *  |\n",
       "\n"
      ],
      "text/plain": [
       "  .y.     group1 group2 n1 n2 statistic df p     p.adj p.adj.signif\n",
       "1 flexion t1     t2     15 15 -1.792843 14 0.095 0.284 ns          \n",
       "2 flexion t1     t3     15 15  1.818987 14 0.090 0.271 ns          \n",
       "3 flexion t2     t3     15 15  3.299705 14 0.005 0.016 *           "
      ]
     },
     "metadata": {},
     "output_type": "display_data"
    }
   ],
   "source": [
    "pwc <- a %>%\n",
    "  pairwise_t_test(\n",
    "    flexion ~ time, paired = TRUE,\n",
    "    p.adjust.method = \"bonferroni\"\n",
    "  )\n",
    "pwc"
   ]
  },
  {
   "cell_type": "markdown",
   "id": "c101b9f2",
   "metadata": {},
   "source": [
    "> <mark>At this moment, it can not be concluded that cupping therapy improves flexion ability of patients. More investigation is needed.</mark>"
   ]
  }
 ],
 "metadata": {
  "kernelspec": {
   "display_name": "R",
   "language": "R",
   "name": "ir"
  },
  "language_info": {
   "codemirror_mode": "r",
   "file_extension": ".r",
   "mimetype": "text/x-r-source",
   "name": "R",
   "pygments_lexer": "r",
   "version": "4.1.0"
  }
 },
 "nbformat": 4,
 "nbformat_minor": 5
}
